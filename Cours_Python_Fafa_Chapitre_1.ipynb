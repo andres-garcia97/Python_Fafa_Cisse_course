{
  "nbformat": 4,
  "nbformat_minor": 0,
  "metadata": {
    "colab": {
      "name": "Cours Python Fafa_Chapitre 1.ipynb",
      "provenance": [],
      "collapsed_sections": [],
      "authorship_tag": "ABX9TyP9DQmFP/qNDM9b/YGELC5m",
      "include_colab_link": true
    },
    "kernelspec": {
      "name": "python3",
      "display_name": "Python 3"
    }
  },
  "cells": [
    {
      "cell_type": "markdown",
      "metadata": {
        "id": "view-in-github",
        "colab_type": "text"
      },
      "source": [
        "<a href=\"https://colab.research.google.com/github/andres-garcia97/Python_Fafa_Cisse_course/blob/master/Cours_Python_Fafa_Chapitre_1.ipynb\" target=\"_parent\"><img src=\"https://colab.research.google.com/assets/colab-badge.svg\" alt=\"Open In Colab\"/></a>"
      ]
    },
    {
      "cell_type": "code",
      "metadata": {
        "id": "FjoST3hP_ogZ",
        "colab_type": "code",
        "colab": {
          "base_uri": "https://localhost:8080/",
          "height": 34
        },
        "outputId": "0c4568f2-283a-434c-c72f-dfa48da14c75"
      },
      "source": [
        "print(\"Hello world\")"
      ],
      "execution_count": 1,
      "outputs": [
        {
          "output_type": "stream",
          "text": [
            "Hello world\n"
          ],
          "name": "stdout"
        }
      ]
    },
    {
      "cell_type": "code",
      "metadata": {
        "id": "-ohunu1dAxea",
        "colab_type": "code",
        "colab": {
          "base_uri": "https://localhost:8080/",
          "height": 34
        },
        "outputId": "914aa417-31e3-4d80-ceb9-9706678fb58a"
      },
      "source": [
        "4 + 3"
      ],
      "execution_count": 2,
      "outputs": [
        {
          "output_type": "execute_result",
          "data": {
            "text/plain": [
              "7"
            ]
          },
          "metadata": {
            "tags": []
          },
          "execution_count": 2
        }
      ]
    },
    {
      "cell_type": "code",
      "metadata": {
        "id": "HaPQT6LrA5MY",
        "colab_type": "code",
        "colab": {
          "base_uri": "https://localhost:8080/",
          "height": 50
        },
        "outputId": "7e7d5463-2756-4e9b-a049-10ff2fd2a74b"
      },
      "source": [
        "a = 4\n",
        "b = 3\n",
        "print(a)\n",
        "a/b"
      ],
      "execution_count": 7,
      "outputs": [
        {
          "output_type": "stream",
          "text": [
            "4\n"
          ],
          "name": "stdout"
        },
        {
          "output_type": "execute_result",
          "data": {
            "text/plain": [
              "1.3333333333333333"
            ]
          },
          "metadata": {
            "tags": []
          },
          "execution_count": 7
        }
      ]
    },
    {
      "cell_type": "markdown",
      "metadata": {
        "id": "tuhhKsV7BlJy",
        "colab_type": "text"
      },
      "source": [
        "# Les fonctions et les librairies\n",
        "Nous allons maintenant découvrir le principe des **fonctions** et des **librairies** en Python. <br/>\n",
        "### Les fonctions\n",
        "![Fonction générique](https://www.datacademie.com/wp-content/uploads/2019/11/Fonction_1.png) <br/>\n",
        "*Exemple:* <br/>\n",
        "![Multiplier](https://www.datacademie.com/wp-content/uploads/2019/11/Fonction_mult.png) <br/>\n",
        "\n",
        "### Les librairies\n",
        "![Librairie](https://www.datacademie.com/wp-content/uploads/2019/11/package.jpg) <br/>\n",
        "\n",
        "\n"
      ]
    },
    {
      "cell_type": "code",
      "metadata": {
        "id": "_QVECfeSCnJc",
        "colab_type": "code",
        "colab": {}
      },
      "source": [
        "import numpy as np   # Utilisé très souvent pour générer des chiffres aléatoires \n",
        "import matplotlib.pyplot as plt   # Utilisé pour tracer des graphes\n",
        "from sklearn.datasets import make_regression    # Pouvoir tracées nos graphes\n",
        "\n",
        "\n",
        "np.random.seed(0)\n",
        "x, y = make_regression(n_samples=100, n_features=1, noise=10)"
      ],
      "execution_count": 10,
      "outputs": []
    },
    {
      "cell_type": "code",
      "metadata": {
        "id": "tbLlw-bQE5lW",
        "colab_type": "code",
        "colab": {
          "base_uri": "https://localhost:8080/",
          "height": 1000
        },
        "outputId": "a5250573-c487-473b-f8f4-608cd6506110"
      },
      "source": [
        "print(x)"
      ],
      "execution_count": 11,
      "outputs": [
        {
          "output_type": "stream",
          "text": [
            "[[-0.35955316]\n",
            " [ 0.97663904]\n",
            " [ 0.40234164]\n",
            " [-0.81314628]\n",
            " [-0.88778575]\n",
            " [ 0.44386323]\n",
            " [-0.97727788]\n",
            " [ 0.42833187]\n",
            " [ 0.20827498]\n",
            " [-0.31155253]\n",
            " [-0.51080514]\n",
            " [ 0.12691209]\n",
            " [-1.53624369]\n",
            " [-0.40178094]\n",
            " [ 0.6536186 ]\n",
            " [ 1.17877957]\n",
            " [-0.17992484]\n",
            " [ 1.78587049]\n",
            " [ 1.45427351]\n",
            " [-0.68481009]\n",
            " [ 0.97873798]\n",
            " [ 1.89588918]\n",
            " [-0.4380743 ]\n",
            " [ 0.3130677 ]\n",
            " [ 0.76103773]\n",
            " [ 0.77749036]\n",
            " [ 1.9507754 ]\n",
            " [ 0.33367433]\n",
            " [-0.34791215]\n",
            " [ 1.53277921]\n",
            " [-0.89546656]\n",
            " [-0.57884966]\n",
            " [-1.04855297]\n",
            " [ 0.37816252]\n",
            " [ 0.01050002]\n",
            " [ 0.46278226]\n",
            " [ 0.14404357]\n",
            " [-0.40317695]\n",
            " [ 0.0519454 ]\n",
            " [-1.25279536]\n",
            " [ 1.05445173]\n",
            " [ 0.40015721]\n",
            " [-1.70627019]\n",
            " [ 2.2408932 ]\n",
            " [ 0.17742614]\n",
            " [-0.20515826]\n",
            " [ 1.23029068]\n",
            " [-0.85409574]\n",
            " [ 1.76405235]\n",
            " [ 0.4105985 ]\n",
            " [-0.90729836]\n",
            " [-1.42001794]\n",
            " [ 0.46566244]\n",
            " [ 0.90082649]\n",
            " [ 1.13940068]\n",
            " [ 0.40198936]\n",
            " [ 0.3869025 ]\n",
            " [-1.7262826 ]\n",
            " [ 1.46935877]\n",
            " [-0.18718385]\n",
            " [-0.87079715]\n",
            " [ 0.3024719 ]\n",
            " [ 1.20237985]\n",
            " [-1.98079647]\n",
            " [-2.55298982]\n",
            " [-1.45436567]\n",
            " [-0.02818223]\n",
            " [ 0.15494743]\n",
            " [ 1.22244507]\n",
            " [ 1.86755799]\n",
            " [ 2.26975462]\n",
            " [-0.74216502]\n",
            " [ 0.06651722]\n",
            " [ 1.49407907]\n",
            " [-0.67246045]\n",
            " [-1.63019835]\n",
            " [ 0.12898291]\n",
            " [ 0.95008842]\n",
            " [ 1.48825219]\n",
            " [ 0.05616534]\n",
            " [ 0.8644362 ]\n",
            " [ 0.70657317]\n",
            " [-0.15135721]\n",
            " [-1.07075262]\n",
            " [-0.10321885]\n",
            " [-0.30230275]\n",
            " [-0.38732682]\n",
            " [ 0.72909056]\n",
            " [ 0.12167502]\n",
            " [-0.50965218]\n",
            " [-1.23482582]\n",
            " [-0.21274028]\n",
            " [-0.63432209]\n",
            " [ 0.15634897]\n",
            " [ 0.04575852]\n",
            " [-1.16514984]\n",
            " [-0.36274117]\n",
            " [ 0.3563664 ]\n",
            " [-1.61389785]\n",
            " [-1.18063218]]\n"
          ],
          "name": "stdout"
        }
      ]
    },
    {
      "cell_type": "code",
      "metadata": {
        "id": "ads6c7qzFBMN",
        "colab_type": "code",
        "colab": {
          "base_uri": "https://localhost:8080/",
          "height": 437
        },
        "outputId": "960dc402-a455-40ba-ea3b-8ecb0dc8c535"
      },
      "source": [
        "print(y)"
      ],
      "execution_count": 12,
      "outputs": [
        {
          "output_type": "stream",
          "text": [
            "[-1.99558856e+01  2.13397727e+01  1.15568946e+01 -1.63420692e+01\n",
            " -3.57006385e+01  2.79953955e+01 -5.63235304e+01  1.76104141e+01\n",
            "  2.14510620e+01 -2.23528647e+01 -2.74674636e+01  9.30231368e+00\n",
            " -7.64902562e+01 -2.83346523e+01  3.06916745e+01  6.04429895e+01\n",
            " -5.12662959e+00  7.38599937e+01  8.02758700e+01 -2.38147640e+01\n",
            "  5.17924631e+01  7.74719877e+01  2.65538141e-01  1.41668399e+01\n",
            "  4.51707474e+01  5.57976548e+01  8.68235998e+01  1.25549501e+01\n",
            "  2.65610251e+00  6.85718935e+01 -4.67284355e+01 -2.19181505e+01\n",
            " -5.10544891e+01  3.04769664e+01 -2.17385589e+01  3.07746441e+01\n",
            "  2.13476276e+01 -1.30570016e+01 -1.54726047e+01 -4.59581256e+01\n",
            "  3.43710384e+01  1.74943144e+01 -7.03446971e+01  8.22114997e+01\n",
            "  1.40323901e+01 -2.86035248e+01  6.55860358e+01 -3.50527403e+01\n",
            "  7.23595134e+01 -2.71575115e-02 -2.50617691e+01 -7.19900873e+01\n",
            "  7.31494988e-01  2.33229469e+01  4.44522164e+01  1.94548702e+01\n",
            "  1.88182737e-01 -9.61107344e+01  6.63609945e+01 -5.06000547e+00\n",
            " -3.58256813e+01  6.50867191e+00  4.27812673e+01 -8.81657065e+01\n",
            " -1.14067914e+02 -6.11450392e+01 -1.67547548e+01 -1.28396319e+01\n",
            "  4.49733589e+01  8.75345859e+01  9.57472146e+01 -2.71052094e+01\n",
            " -1.52934219e+01  5.36866622e+01 -2.65475822e+01 -7.68702465e+01\n",
            "  1.63600962e+01  2.95678272e+01  4.54599317e+01  1.09629742e+01\n",
            "  3.88621637e+01  2.69874564e+01 -8.50663786e+00 -4.49153458e+01\n",
            "  1.67073962e+00 -2.57238393e+01 -1.55899433e+01  3.51469962e+01\n",
            "  1.81642197e+01 -9.62864522e+00 -4.60167017e+01 -2.90606708e+00\n",
            " -3.61676540e+01  2.98606223e+00 -7.41580670e+00 -4.84421213e+01\n",
            " -4.67748283e-01  1.17844657e+01 -5.27648493e+01 -5.54200307e+01]\n"
          ],
          "name": "stdout"
        }
      ]
    },
    {
      "cell_type": "code",
      "metadata": {
        "id": "SZQhA6HLFDrA",
        "colab_type": "code",
        "colab": {
          "base_uri": "https://localhost:8080/",
          "height": 282
        },
        "outputId": "312a34c8-69e5-4064-de9c-7f661eebe405"
      },
      "source": [
        "plt.scatter(x,y)"
      ],
      "execution_count": 13,
      "outputs": [
        {
          "output_type": "execute_result",
          "data": {
            "text/plain": [
              "<matplotlib.collections.PathCollection at 0x7fe78c08dc18>"
            ]
          },
          "metadata": {
            "tags": []
          },
          "execution_count": 13
        },
        {
          "output_type": "display_data",
          "data": {
            "image/png": "[encoded data removed]",
            "text/plain": [
              "<Figure size 432x288 with 1 Axes>"
            ]
          },
          "metadata": {
            "tags": [],
            "needs_background": "light"
          }
        }
      ]
    },
    {
      "cell_type": "markdown",
      "metadata": {
        "id": "KZCNVg0uFScF",
        "colab_type": "text"
      },
      "source": [
        "##Félicitations! <br/>\n",
        "Premier code fini!"
      ]
    }
  ]
}